{
 "cells": [
  {
   "cell_type": "markdown",
   "metadata": {},
   "source": [
    "Problem statement\n",
    "For this project you must create a data set by simulating a real-world phenomenon of your choosing. You may pick any phenomenon you wish – you might pick one that is of interest to you in your personal or professional life. Then, rather than collect data related to the phenomenon, you should model and synthesise such data using Python. We suggest you use the numpy.random package for this purpose.\n",
    "\n",
    "Specifically, in this project you should:\n",
    "\n",
    "• Choose a real-world phenomenon that can be measured and for which you could\n",
    "    collect at least one-hundred data points across at least four different variables.\n",
    "    \n",
    "• Investigate the types of variables involved, their likely distributions, and their\n",
    "    relationships with each other.\n",
    "    \n",
    "• Synthesise/simulate a data set as closely matching their properties as possible.\n",
    "\n",
    "• Detail your research and implement the simulation in a Jupyter notebook – the\n",
    "    data set itself can simply be displayed in an output cell within the notebook.\n",
    "    Note that this project is about simulation – you must synthesise a data set. Some\n",
    "    students may already have some real-world data sets in their own files. It is okay to\n",
    "    base your synthesised data set on these should you wish (please reference it if you do),\n",
    "    but the main task in this project is to create a synthesised data set. The next section\n",
    "    gives an example project idea."
   ]
  },
  {
   "cell_type": "markdown",
   "metadata": {},
   "source": [
    "Create a dataset with four variables\n",
    "Three variables will be selected from data arrays, fourth variable will be a calculation based on the three chosen variables\n",
    "\n",
    " Likewise, I investigate\n",
    "the other four variables, and I also look at the relationships between the variables. I\n",
    "devise an algorithm (or method) to generate such a data set, simulating values of the\n",
    "four variables for two-hundred students. I detail all this work in my notebook, and then\n",
    "I add some code in to generate a data set with those properties."
   ]
  },
  {
   "cell_type": "code",
   "execution_count": 1,
   "metadata": {},
   "outputs": [],
   "source": [
    "import numpy as np\n",
    "import pandas as pd\n",
    "import matplotlib.pyplot as plt\n",
    "import seaborn as sns"
   ]
  },
  {
   "cell_type": "code",
   "execution_count": 7,
   "metadata": {},
   "outputs": [
    {
     "name": "stdout",
     "output_type": "stream",
     "text": [
      "[34 15 11 39 -4  8 25 37 35 34 29  5 29 -3  5 22 35 31 26 11 27 37 -1 36\n",
      " -3 11 21 13 37 22 13 28  4 15 -2 23 25 26  2  1 10 32  0 33  9 26  2  4\n",
      "  1  2 10 14 -4  8  3 -4 28 40  1 26 15  9 40 14  2  8 22 24  6 -4 -1 24\n",
      " 34  8  6 29 14 27 12 23 35 11 17 39 20 20 25 40  9  5  1 28 -4 10 10 -2\n",
      "  3 -4 26 25]\n"
     ]
    }
   ],
   "source": [
    "rng = np.random.default_rng()\n",
    "Temperature = rng.integers(-4,41,100)\n",
    "print(Temperature)"
   ]
  },
  {
   "cell_type": "code",
   "execution_count": 17,
   "metadata": {},
   "outputs": [
    {
     "name": "stdout",
     "output_type": "stream",
     "text": [
      "['Arizona' 'Florida' 'Arizona' 'Kentucky' 'Arizona' 'Arizona' 'California'\n",
      " 'Kentucky' 'California' 'Arizona' 'Florida' 'Kentucky' 'Kentucky'\n",
      " 'Kentucky' 'Florida' 'Florida' 'California' 'California' 'Florida'\n",
      " 'Florida' 'Arizona' 'California' 'Florida' 'Kentucky' 'Arizona'\n",
      " 'Kentucky' 'Florida' 'Arizona' 'Florida' 'Arizona' 'Arizona' 'Florida'\n",
      " 'Kentucky' 'Arizona' 'Florida' 'California' 'Florida' 'Florida' 'Arizona'\n",
      " 'Florida' 'Arizona' 'Florida' 'California' 'California' 'Arizona'\n",
      " 'Kentucky' 'Arizona' 'Florida' 'Kentucky' 'Florida' 'Kentucky'\n",
      " 'California' 'California' 'California' 'Florida' 'Arizona' 'Florida'\n",
      " 'Kentucky' 'Kentucky' 'Kentucky' 'Florida' 'Arizona' 'Arizona' 'Florida'\n",
      " 'Florida' 'Kentucky' 'California' 'Arizona' 'California' 'Florida'\n",
      " 'Kentucky' 'Arizona' 'Arizona' 'California' 'California' 'California'\n",
      " 'Florida' 'Kentucky' 'Arizona' 'California' 'California' 'Kentucky'\n",
      " 'Kentucky' 'Kentucky' 'Florida' 'Florida' 'Florida' 'Florida' 'Florida'\n",
      " 'Arizona' 'Kentucky' 'Arizona' 'Kentucky' 'California' 'Florida'\n",
      " 'California' 'Florida' 'Kentucky' 'California' 'California']\n"
     ]
    }
   ],
   "source": [
    "State = np.random.choice(['Arizona', 'Kentucky', 'Florida', 'California'], 100)\n",
    "print(State)"
   ]
  },
  {
   "cell_type": "code",
   "execution_count": 18,
   "metadata": {},
   "outputs": [
    {
     "name": "stdout",
     "output_type": "stream",
     "text": [
      "[19 46 12 38 17 42 15 58 84 61 54 49 36 38 16 81 45 23 13 51 48 79 73  8\n",
      " 56 45 79 60 46 23 37 41 16 66 58 79 13 75 60 66 36  8 25 71 14 19 33 13\n",
      " 60 74 62 22 13 76 79 70 11 41 17  9 67 53 38 76 37 58 76 49 55 23 26 43\n",
      " 76 40 32 11 61 71 54 78  8 54 61 46 36 34 39 22  9 56 41 30 34 75 16 67\n",
      " 70 25 72 14]\n"
     ]
    }
   ],
   "source": [
    "rng = np.random.default_rng()\n",
    "Age = rng.integers(8,85,100)\n",
    "print(Age)"
   ]
  },
  {
   "cell_type": "code",
   "execution_count": 16,
   "metadata": {},
   "outputs": [
    {
     "name": "stdout",
     "output_type": "stream",
     "text": [
      "['Beginner' 'Beginner' 'Mediocre' 'Beginner' 'Beginner' 'Beginner'\n",
      " 'Mediocre' 'Beginner' 'Beginner' 'Mediocre' 'Mediocre' 'Mediocre'\n",
      " 'Mediocre' 'Beginner' 'Advanced' 'Mediocre' 'Beginner' 'Beginner'\n",
      " 'Beginner' 'Beginner' 'Beginner' 'Beginner' 'Mediocre' 'Beginner'\n",
      " 'Beginner' 'Mediocre' 'Beginner' 'Mediocre' 'Advanced' 'Beginner'\n",
      " 'Beginner' 'Mediocre' 'Beginner' 'Beginner' 'Advanced' 'Mediocre'\n",
      " 'Beginner' 'Advanced' 'Beginner' 'Beginner' 'Beginner' 'Mediocre'\n",
      " 'Beginner' 'Beginner' 'Advanced' 'Mediocre' 'Beginner' 'Beginner'\n",
      " 'Beginner' 'Beginner' 'Beginner' 'Mediocre' 'Beginner' 'Advanced'\n",
      " 'Mediocre' 'Mediocre' 'Advanced' 'Beginner' 'Beginner' 'Beginner'\n",
      " 'Beginner' 'Beginner' 'Mediocre' 'Mediocre' 'Beginner' 'Beginner'\n",
      " 'Beginner' 'Beginner' 'Advanced' 'Beginner' 'Beginner' 'Beginner'\n",
      " 'Beginner' 'Advanced' 'Beginner' 'Mediocre' 'Beginner' 'Mediocre'\n",
      " 'Beginner' 'Beginner' 'Beginner' 'Beginner' 'Mediocre' 'Mediocre'\n",
      " 'Beginner' 'Beginner' 'Mediocre' 'Beginner' 'Advanced' 'Beginner'\n",
      " 'Mediocre' 'Beginner' 'Mediocre' 'Mediocre' 'Beginner' 'Mediocre'\n",
      " 'Beginner' 'Beginner' 'Beginner' 'Beginner']\n"
     ]
    }
   ],
   "source": [
    "Swimming_ability = np.random.choice(['Beginner', 'Mediocre', 'Advanced'], 100, p =[0.54,0.35,0.11])\n",
    "print(Swimming_ability)\n",
    "\n",
    "# https://www.redcross.org/about-us/news-and-events/press-release/red-cross-launches-campaign-to-cut-drowning-in-half-in-50-cities.html#:~:text=Overall%2C%20the%20survey%20finds%20that,to%2051%20percent%20of%20whites."
   ]
  },
  {
   "cell_type": "code",
   "execution_count": null,
   "metadata": {},
   "outputs": [],
   "source": []
  }
 ],
 "metadata": {
  "kernelspec": {
   "display_name": "Python 3",
   "language": "python",
   "name": "python3"
  },
  "language_info": {
   "codemirror_mode": {
    "name": "ipython",
    "version": 3
   },
   "file_extension": ".py",
   "mimetype": "text/x-python",
   "name": "python",
   "nbconvert_exporter": "python",
   "pygments_lexer": "ipython3",
   "version": "3.7.4"
  }
 },
 "nbformat": 4,
 "nbformat_minor": 2
}
